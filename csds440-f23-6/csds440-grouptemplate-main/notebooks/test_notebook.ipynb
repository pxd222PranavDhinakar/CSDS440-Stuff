{
 "cells": [
  {
   "cell_type": "code",
   "execution_count": 21,
   "metadata": {},
   "outputs": [],
   "source": [
    "import random\n",
    "import warnings\n",
    "from typing import Tuple, Iterable\n",
    "from sting.data import FeatureType\n",
    "\n",
    "import numpy as np\n",
    "\n",
    "import sys\n",
    "import os\n",
    "\n",
    "# Get the current directory\n",
    "notebook_dir = os.getcwd()\n",
    "\n",
    "# The src directory is one level up from the notebook directory\n",
    "src_dir = os.path.join(notebook_dir, '..', 'src')\n",
    "\n",
    "# Add src to the system path\n",
    "sys.path.append(src_dir)\n",
    "\n",
    "# Now you can import the dtree module or any other modules in the src directory\n",
    "import dtree\n",
    "\n",
    "import util\n",
    "\n",
    "from sting.data import Feature, FeatureType\n",
    "from sting.data import parse_c45\n",
    "\n",
    "from matplotlib import pyplot as plt\n",
    "from sting.data import parse_c45\n"
   ]
  },
  {
   "cell_type": "code",
   "execution_count": 22,
   "metadata": {},
   "outputs": [],
   "source": [
    "# Getting Data for Voting Dataset\n",
    "# Define the path to your data\n",
    "data_path = \"../440data/voting\"  # replace with your data path\n",
    "\n",
    "path = os.path.expanduser(data_path).split(os.sep)\n",
    "file_base = path[-1]  # -1 accesses the last entry of an iterable in Python\n",
    "\n",
    "# Load data for Voting dataset\n",
    "schema, X, y = parse_c45(file_base, data_path)"
   ]
  },
  {
   "cell_type": "code",
   "execution_count": 23,
   "metadata": {},
   "outputs": [
    {
     "name": "stdout",
     "output_type": "stream",
     "text": [
      "Accuracy: 0.99\n",
      "Precision: 0.99\n",
      "Recall: 0.98\n",
      "First Feature: Repealing-the-Job-Killing-Health-Care-Law-Act\n"
     ]
    }
   ],
   "source": [
    "# Create decision tree of depth 1 for voting dataset and print metrics\n",
    "voting_decision_tree_depth_1 = dtree.dtree(data_path, 1)\n",
    "\n",
    "voting_y_hat_depth_1 = voting_decision_tree_depth_1.predict(X)\n",
    "\n",
    "dtree.evaluate_and_print_metrics(voting_decision_tree_depth_1, X, y)"
   ]
  },
  {
   "cell_type": "code",
   "execution_count": 12,
   "metadata": {},
   "outputs": [
    {
     "name": "stdout",
     "output_type": "stream",
     "text": [
      "Accuracy: 0.99\n",
      "Precision: 1.00\n",
      "Recall: 0.98\n",
      "First Feature: Repealing-the-Job-Killing-Health-Care-Law-Act\n"
     ]
    }
   ],
   "source": [
    "# Create decision tree of depth 2 for voting dataset and print metrics\n",
    "voting_decision_tree_depth_2 = dtree.dtree(data_path, 2)\n",
    "\n",
    "voting_y_hat_depth_2 = voting_decision_tree_depth_2.predict(X)\n",
    "\n",
    "dtree.evaluate_and_print_metrics(voting_decision_tree_depth_2, X, y)"
   ]
  },
  {
   "cell_type": "code",
   "execution_count": 13,
   "metadata": {},
   "outputs": [
    {
     "name": "stdout",
     "output_type": "stream",
     "text": [
      "Accuracy: 0.99\n",
      "Precision: 1.00\n",
      "Recall: 0.98\n",
      "First Feature: Repealing-the-Job-Killing-Health-Care-Law-Act\n"
     ]
    }
   ],
   "source": [
    "# Create decision tree of depth 3 for voting dataset and print metrics\n",
    "voting_decision_tree_depth_3 = dtree.dtree(data_path, 3)\n",
    "\n",
    "voting_y_hat_depth_3 = voting_decision_tree_depth_3.predict(X)\n",
    "\n",
    "dtree.evaluate_and_print_metrics(voting_decision_tree_depth_3, X, y)"
   ]
  },
  {
   "cell_type": "code",
   "execution_count": 14,
   "metadata": {},
   "outputs": [
    {
     "name": "stdout",
     "output_type": "stream",
     "text": [
      "Accuracy: 1.00\n",
      "Precision: 1.00\n",
      "Recall: 0.99\n",
      "First Feature: Repealing-the-Job-Killing-Health-Care-Law-Act\n"
     ]
    }
   ],
   "source": [
    "# Create decision tree of depth 4 for voting dataset and print metrics\n",
    "voting_decision_tree_depth_4 = dtree.dtree(data_path, 4)\n",
    "\n",
    "voting_y_hat_depth_4 = voting_decision_tree_depth_4.predict(X)\n",
    "\n",
    "dtree.evaluate_and_print_metrics(voting_decision_tree_depth_4, X, y)"
   ]
  },
  {
   "cell_type": "code",
   "execution_count": 15,
   "metadata": {},
   "outputs": [
    {
     "name": "stdout",
     "output_type": "stream",
     "text": [
      "Accuracy: 1.00\n",
      "Precision: 1.00\n",
      "Recall: 0.99\n",
      "First Feature: Repealing-the-Job-Killing-Health-Care-Law-Act\n"
     ]
    }
   ],
   "source": [
    "# Create decision tree of depth 5 for voting dataset and print metrics\n",
    "voting_decision_tree_depth_5 = dtree.dtree(data_path, 5)\n",
    "\n",
    "voting_y_hat_depth_5 = voting_decision_tree_depth_5.predict(X)\n",
    "\n",
    "dtree.evaluate_and_print_metrics(voting_decision_tree_depth_5, X, y)"
   ]
  },
  {
   "cell_type": "code",
   "execution_count": 17,
   "metadata": {},
   "outputs": [],
   "source": [
    "# Getting Data for Volcanoes Dataset\n",
    "# Define the path to your data\n",
    "data_path = \"../440data/volcanoes\"  # replace with your data path\n",
    "\n",
    "path = os.path.expanduser(data_path).split(os.sep)\n",
    "file_base = path[-1]  # -1 accesses the last entry of an iterable in Python\n",
    "\n",
    "# Load data for Volcanoes dataset\n",
    "schema, X, y = parse_c45(file_base, data_path)"
   ]
  },
  {
   "cell_type": "code",
   "execution_count": null,
   "metadata": {},
   "outputs": [],
   "source": [
    "# Create decision tree of depth 1 for volcanoes dataset and print metrics\n",
    "volcanoes_decision_tree_depth_1 = dtree.dtree(data_path, 1)\n",
    "\n",
    "volcanoes_y_hat_depth_1 = volcanoes_decision_tree_depth_1.predict(X)\n",
    "\n",
    "dtree.evaluate_and_print_metrics(volcanoes_decision_tree_depth_1, X, y)"
   ]
  },
  {
   "cell_type": "code",
   "execution_count": null,
   "metadata": {},
   "outputs": [],
   "source": [
    "# Create decision tree of depth 1 for volcanoes dataset and print metrics\n",
    "volcanoes_decision_tree_depth_2 = dtree.dtree(data_path, 2)\n",
    "\n",
    "volcanoes_y_hat_depth_2 = volcanoes_decision_tree_depth_2.predict(X)\n",
    "\n",
    "dtree.evaluate_and_print_metrics(volcanoes_decision_tree_depth_2, X, y)"
   ]
  },
  {
   "cell_type": "code",
   "execution_count": null,
   "metadata": {},
   "outputs": [],
   "source": [
    "# Create decision tree of depth 1 for volcanoes dataset and print metrics\n",
    "volcanoes_decision_tree_depth_3 = dtree.dtree(data_path, 3)\n",
    "\n",
    "volcanoes_y_hat_depth_3 = volcanoes_decision_tree_depth_3.predict(X)\n",
    "\n",
    "dtree.evaluate_and_print_metrics(volcanoes_decision_tree_depth_3, X, y)"
   ]
  },
  {
   "cell_type": "code",
   "execution_count": null,
   "metadata": {},
   "outputs": [],
   "source": [
    "# Create decision tree of depth 1 for volcanoes dataset and print metrics\n",
    "volcanoes_decision_tree_depth_4 = dtree.dtree(data_path, 4)\n",
    "\n",
    "volcanoes_y_hat_depth_4 = volcanoes_decision_tree_depth_4.predict(X)\n",
    "\n",
    "dtree.evaluate_and_print_metrics(volcanoes_decision_tree_depth_4, X, y)"
   ]
  },
  {
   "cell_type": "code",
   "execution_count": null,
   "metadata": {},
   "outputs": [],
   "source": [
    "# Create decision tree of depth 1 for volcanoes dataset and print metrics\n",
    "volcanoes_decision_tree_depth_5 = dtree.dtree(data_path, 5)\n",
    "\n",
    "volcanoes_y_hat_depth_5 = volcanoes_decision_tree_depth_5.predict(X)\n",
    "\n",
    "dtree.evaluate_and_print_metrics(volcanoes_decision_tree_depth_5, X, y)"
   ]
  },
  {
   "cell_type": "code",
   "execution_count": 19,
   "metadata": {},
   "outputs": [],
   "source": [
    "# Getting Data for Volcanoes Dataset\n",
    "# Define the path to your data\n",
    "data_path = \"../440data/spam\"  # replace with your data path\n",
    "\n",
    "path = os.path.expanduser(data_path).split(os.sep)\n",
    "file_base = path[-1]  # -1 accesses the last entry of an iterable in Python\n",
    "\n",
    "# Load data for Volcanoes dataset\n",
    "schema, X, y = parse_c45(file_base, data_path)"
   ]
  },
  {
   "cell_type": "code",
   "execution_count": null,
   "metadata": {},
   "outputs": [],
   "source": [
    "# Create decision tree of depth 1 for spam dataset and print metrics\n",
    "spam_decision_tree_depth_1 = dtree.dtree(data_path, 1)\n",
    "\n",
    "spam_y_hat_depth_1 = spam_decision_tree_depth_1.predict(X)\n",
    "\n",
    "dtree.evaluate_and_print_metrics(spam_decision_tree_depth_1, X, y)"
   ]
  },
  {
   "cell_type": "code",
   "execution_count": null,
   "metadata": {},
   "outputs": [],
   "source": [
    "# Create decision tree of depth 2 for spam dataset and print metrics\n",
    "spam_decision_tree_depth_2 = dtree.dtree(data_path, 2)\n",
    "\n",
    "spam_y_hat_depth_2 = spam_decision_tree_depth_2.predict(X)\n",
    "\n",
    "dtree.evaluate_and_print_metrics(spam_decision_tree_depth_2, X, y)"
   ]
  },
  {
   "cell_type": "code",
   "execution_count": null,
   "metadata": {},
   "outputs": [],
   "source": [
    "# Create decision tree of depth 3 for spam dataset and print metrics\n",
    "spam_decision_tree_depth_3 = dtree.dtree(data_path, 3)\n",
    "\n",
    "spam_y_hat_depth_3 = spam_decision_tree_depth_3.predict(X)\n",
    "\n",
    "dtree.evaluate_and_print_metrics(spam_decision_tree_depth_3, X, y)"
   ]
  },
  {
   "cell_type": "code",
   "execution_count": null,
   "metadata": {},
   "outputs": [],
   "source": [
    "# Create decision tree of depth 4 for spam dataset and print metrics\n",
    "spam_decision_tree_depth_4 = dtree.dtree(data_path, 4)\n",
    "\n",
    "spam_y_hat_depth_4 = spam_decision_tree_depth_4.predict(X)\n",
    "\n",
    "dtree.evaluate_and_print_metrics(spam_decision_tree_depth_4, X, y)"
   ]
  },
  {
   "cell_type": "code",
   "execution_count": null,
   "metadata": {},
   "outputs": [],
   "source": [
    "# Create decision tree of depth 5 for spam dataset and print metrics\n",
    "spam_decision_tree_depth_5 = dtree.dtree(data_path, 5)\n",
    "\n",
    "spam_y_hat_depth_5 = spam_decision_tree_depth_5.predict(X)\n",
    "\n",
    "dtree.evaluate_and_print_metrics(spam_decision_tree_depth_5, X, y)"
   ]
  },
  {
   "cell_type": "code",
   "execution_count": 25,
   "metadata": {},
   "outputs": [
    {
     "data": {
      "text/plain": [
       "'Repealing-the-Job-Killing-Health-Care-Law-Act'"
      ]
     },
     "execution_count": 25,
     "metadata": {},
     "output_type": "execute_result"
    }
   ],
   "source": [
    "# First test picked by ID3 for Voting Dataset\n",
    "voting_decision_tree_depth_1.root.get_schema().name"
   ]
  },
  {
   "cell_type": "markdown",
   "metadata": {},
   "source": [
    "The above root node was chosen because it the ID3 algorithm found that it had the highest information gain with respect to the label set out of all the other attributes in the voting dataset\n",
    "\n",
    "This is a sensible test because, as we can see, the root node is the one that has the highest information gain with respect to the label set out of all the other attributes in the voting dataset. This means that the root node is the one that has the most information about the label set, and therefore is the best attribute to split on."
   ]
  },
  {
   "cell_type": "code",
   "execution_count": null,
   "metadata": {},
   "outputs": [],
   "source": [
    "# First test picked by ID3 for Spam Dataset\n",
    "spam_decision_tree_depth_1.root.get_schema().name"
   ]
  },
  {
   "cell_type": "markdown",
   "metadata": {},
   "source": [
    "The above root node was chosen because it the ID3 algorithm found that it had the highest information gain with respect to the label set out of all the other attributes in the voting dataset\n",
    "\n",
    "This is a sensible test because, as we can see, the root node is the one that has the highest information gain with respect to the label set out of all the other attributes in the voting dataset. This means that the root node is the one that has the most information about the label set, and therefore is the best attribute to split on."
   ]
  },
  {
   "cell_type": "code",
   "execution_count": 46,
   "metadata": {},
   "outputs": [],
   "source": [
    "# Getting Data for Voting Dataset\n",
    "# Define the path to your data\n",
    "data_path = \"../440data/voting\"  # replace with your data path\n",
    "\n",
    "path = os.path.expanduser(data_path).split(os.sep)\n",
    "file_base = path[-1]  # -1 accesses the last entry of an iterable in Python\n",
    "\n",
    "# Load data for Voting dataset\n",
    "schema, X, y = parse_c45(file_base, data_path)"
   ]
  },
  {
   "cell_type": "code",
   "execution_count": 47,
   "metadata": {},
   "outputs": [],
   "source": [
    "# Create decision tree of depths 1-32 for voting dataset\n",
    "voting_decision_tree_depth_1 = dtree.dtree(data_path, 1)\n",
    "voting_decision_tree_depth_2 = dtree.dtree(data_path, 2)\n",
    "voting_decision_tree_depth_4 = dtree.dtree(data_path, 4)\n",
    "voting_decision_tree_depth_8 = dtree.dtree(data_path, 8)\n",
    "voting_decision_tree_depth_16 = dtree.dtree(data_path, 16)\n",
    "voting_decision_tree_depth_32 = dtree.dtree(data_path, 32)\n",
    "\n",
    "# Create predictions of depths 1-32 for voting dataset\n",
    "voting_y_hat_depth_1 = voting_decision_tree_depth_1.predict(X)\n",
    "voting_y_hat_depth_2 = voting_decision_tree_depth_2.predict(X)\n",
    "voting_y_hat_depth_4 = voting_decision_tree_depth_4.predict(X)\n",
    "voting_y_hat_depth_8 = voting_decision_tree_depth_8.predict(X)\n",
    "voting_y_hat_depth_16 = voting_decision_tree_depth_16.predict(X)\n",
    "voting_y_hat_depth_32 = voting_decision_tree_depth_32.predict(X)\n",
    "\n",
    "# Create accuracies of depths 1-32 for voting dataset\n",
    "voting_accuracy_depth_1 = util.accuracy(y, voting_y_hat_depth_1)\n",
    "voting_accuracy_depth_2 = util.accuracy(y, voting_y_hat_depth_2)\n",
    "voting_accuracy_depth_4 = util.accuracy(y, voting_y_hat_depth_4)\n",
    "voting_accuracy_depth_8 = util.accuracy(y, voting_y_hat_depth_8)\n",
    "voting_accuracy_depth_16 = util.accuracy(y, voting_y_hat_depth_16)\n",
    "voting_accuracy_depth_32 = util.accuracy(y, voting_y_hat_depth_32)"
   ]
  },
  {
   "cell_type": "code",
   "execution_count": 48,
   "metadata": {},
   "outputs": [],
   "source": [
    "# Tree depths\n",
    "depths = [1, 2, 4, 8, 16, 32]\n",
    "\n",
    "# Corresponding accuracies\n",
    "accuracies = [\n",
    "    voting_accuracy_depth_1,\n",
    "    voting_accuracy_depth_2,\n",
    "    voting_accuracy_depth_4,\n",
    "    voting_accuracy_depth_8,\n",
    "    voting_accuracy_depth_16,\n",
    "    voting_accuracy_depth_32\n",
    "]\n"
   ]
  },
  {
   "cell_type": "code",
   "execution_count": 49,
   "metadata": {},
   "outputs": [
    {
     "data": {
      "image/png": "[encoded data removed]",
      "text/plain": [
       "<Figure size 1000x600 with 1 Axes>"
      ]
     },
     "metadata": {},
     "output_type": "display_data"
    }
   ],
   "source": [
    "# Plotting Voting dataset accuracy as depth of trees increase\n",
    "plt.figure(figsize=(10, 6))\n",
    "\n",
    "# Create line plot\n",
    "plt.plot(depths, accuracies, marker='o')\n",
    "\n",
    "# Add title and labels\n",
    "plt.title('Decision Tree Accuracy vs. Tree Depth')\n",
    "plt.xlabel('Tree Depth')\n",
    "plt.ylabel('Accuracy')\n",
    "\n",
    "# Show grid lines\n",
    "plt.grid(True)\n",
    "\n",
    "# Show the plot\n",
    "plt.show()"
   ]
  },
  {
   "cell_type": "code",
   "execution_count": 50,
   "metadata": {},
   "outputs": [],
   "source": [
    "# Getting Data for Voting Dataset\n",
    "# Define the path to your data\n",
    "data_path = \"../440data/volcanoes\"  # replace with your data path\n",
    "\n",
    "path = os.path.expanduser(data_path).split(os.sep)\n",
    "file_base = path[-1]  # -1 accesses the last entry of an iterable in Python\n",
    "\n",
    "# Load data for Voting dataset\n",
    "schema, X, y = parse_c45(file_base, data_path)"
   ]
  },
  {
   "cell_type": "code",
   "execution_count": 51,
   "metadata": {},
   "outputs": [],
   "source": [
    "# Create decision tree of depths 1-32 for volcanoes dataset\n",
    "volcanoes_decision_tree_depth_1 = dtree.dtree(data_path, 1)\n",
    "volcanoes_decision_tree_depth_2 = dtree.dtree(data_path, 2)\n",
    "volcanoes_decision_tree_depth_4 = dtree.dtree(data_path, 4)\n",
    "volcanoes_decision_tree_depth_8 = dtree.dtree(data_path, 8)\n",
    "volcanoes_decision_tree_depth_16 = dtree.dtree(data_path, 16)\n",
    "volcanoes_decision_tree_depth_32 = dtree.dtree(data_path, 32)\n",
    "\n",
    "# Create predictions of depths 1-32 for volcanoes dataset\n",
    "volcanoes_y_hat_depth_1 = volcanoes_decision_tree_depth_1.predict(X)\n",
    "volcanoes_y_hat_depth_2 = volcanoes_decision_tree_depth_2.predict(X)\n",
    "volcanoes_y_hat_depth_4 = volcanoes_decision_tree_depth_4.predict(X)\n",
    "volcanoes_y_hat_depth_8 = volcanoes_decision_tree_depth_8.predict(X)\n",
    "volcanoes_y_hat_depth_16 = volcanoes_decision_tree_depth_16.predict(X)\n",
    "volcanoes_y_hat_depth_32 = volcanoes_decision_tree_depth_32.predict(X)\n",
    "\n",
    "# Create accuracies of depths 1-32 for volcanoes dataset\n",
    "volcanoes_accuracy_depth_1 = util.accuracy(y, volcanoes_y_hat_depth_1)\n",
    "volcanoes_accuracy_depth_2 = util.accuracy(y, volcanoes_y_hat_depth_2)\n",
    "volcanoes_accuracy_depth_4 = util.accuracy(y, volcanoes_y_hat_depth_4)\n",
    "volcanoes_accuracy_depth_8 = util.accuracy(y, volcanoes_y_hat_depth_8)\n",
    "volcanoes_accuracy_depth_16 = util.accuracy(y, volcanoes_y_hat_depth_16)\n",
    "volcanoes_accuracy_depth_32 = util.accuracy(y, volcanoes_y_hat_depth_32)"
   ]
  },
  {
   "cell_type": "code",
   "execution_count": null,
   "metadata": {},
   "outputs": [],
   "source": [
    "# Tree depths\n",
    "depths = [1, 2, 4, 8, 16, 32]\n",
    "\n",
    "# Corresponding accuracies\n",
    "accuracies = [\n",
    "    volcanoes_accuracy_depth_1,\n",
    "    volcanoes_accuracy_depth_2,\n",
    "    volcanoes_accuracy_depth_4,\n",
    "    volcanoes_accuracy_depth_8,\n",
    "    volcanoes_accuracy_depth_16,\n",
    "    volcanoes_accuracy_depth_32\n",
    "]"
   ]
  },
  {
   "cell_type": "code",
   "execution_count": null,
   "metadata": {},
   "outputs": [],
   "source": [
    "# Plotting Volcanoes dataset accuracy as depth of trees increase\n",
    "plt.figure(figsize=(10, 6))\n",
    "\n",
    "# Create line plot\n",
    "plt.plot(depths, accuracies, marker='o')\n",
    "\n",
    "# Add title and labels\n",
    "plt.title('Decision Tree Accuracy vs. Tree Depth')\n",
    "plt.xlabel('Tree Depth')\n",
    "plt.ylabel('Accuracy')\n",
    "\n",
    "# Show grid lines\n",
    "plt.grid(True)\n",
    "\n",
    "# Show the plot\n",
    "plt.show()"
   ]
  },
  {
   "cell_type": "code",
   "execution_count": 52,
   "metadata": {},
   "outputs": [],
   "source": [
    "# Getting Data for Voting Dataset\n",
    "# Define the path to your data\n",
    "data_path = \"../440data/spam\"  # replace with your data path\n",
    "\n",
    "path = os.path.expanduser(data_path).split(os.sep)\n",
    "file_base = path[-1]  # -1 accesses the last entry of an iterable in Python\n",
    "\n",
    "# Load data for Voting dataset\n",
    "schema, X, y = parse_c45(file_base, data_path)"
   ]
  },
  {
   "cell_type": "code",
   "execution_count": null,
   "metadata": {},
   "outputs": [],
   "source": [
    "# Create decision tree of depths 1-32 for spam dataset\n",
    "spam_decision_tree_depth_1 = dtree.dtree(data_path, 1)\n",
    "spam_decision_tree_depth_2 = dtree.dtree(data_path, 2)\n",
    "spam_decision_tree_depth_4 = dtree.dtree(data_path, 4)\n",
    "spam_decision_tree_depth_8 = dtree.dtree(data_path, 8)\n",
    "spam_decision_tree_depth_16 = dtree.dtree(data_path, 16)\n",
    "spam_decision_tree_depth_32 = dtree.dtree(data_path, 32)\n",
    "\n",
    "# Create predictions of depths 1-32 for spam dataset\n",
    "spam_y_hat_depth_1 = spam_decision_tree_depth_1.predict(X)\n",
    "spam_y_hat_depth_2 = spam_decision_tree_depth_2.predict(X)\n",
    "spam_y_hat_depth_4 = spam_decision_tree_depth_4.predict(X)\n",
    "spam_y_hat_depth_8 = spam_decision_tree_depth_8.predict(X)\n",
    "spam_y_hat_depth_16 = spam_decision_tree_depth_16.predict(X)\n",
    "spam_y_hat_depth_32 = spam_decision_tree_depth_32.predict(X)\n",
    "\n",
    "# Create accuracies of depths 1-32 for spam dataset\n",
    "spam_accuracy_depth_1 = util.accuracy(y, spam_y_hat_depth_1)\n",
    "spam_accuracy_depth_2 = util.accuracy(y, spam_y_hat_depth_2)\n",
    "spam_accuracy_depth_4 = util.accuracy(y, spam_y_hat_depth_4)\n",
    "spam_accuracy_depth_8 = util.accuracy(y, spam_y_hat_depth_8)\n",
    "spam_accuracy_depth_16 = util.accuracy(y, spam_y_hat_depth_16)\n",
    "spam_accuracy_depth_32 = util.accuracy(y, spam_y_hat_depth_32)"
   ]
  },
  {
   "cell_type": "code",
   "execution_count": null,
   "metadata": {},
   "outputs": [],
   "source": [
    "# Tree depths\n",
    "depths = [1, 2, 4, 8, 16, 32]\n",
    "\n",
    "# Corresponding accuracies\n",
    "accuracies = [\n",
    "    spam_accuracy_depth_1,\n",
    "    spam_accuracy_depth_2,\n",
    "    spam_accuracy_depth_4,\n",
    "    spam_accuracy_depth_8,\n",
    "    spam_accuracy_depth_16,\n",
    "    spam_accuracy_depth_32\n",
    "]"
   ]
  },
  {
   "cell_type": "code",
   "execution_count": null,
   "metadata": {},
   "outputs": [],
   "source": [
    "# Plotting Spam dataset accuracy as depth of trees increase\n",
    "plt.figure(figsize=(10, 6))\n",
    "\n",
    "# Create line plot\n",
    "plt.plot(depths, accuracies, marker='o')\n",
    "\n",
    "# Add title and labels\n",
    "plt.title('Decision Tree Accuracy vs. Tree Depth')\n",
    "plt.xlabel('Tree Depth')\n",
    "plt.ylabel('Accuracy')\n",
    "\n",
    "# Show grid lines\n",
    "plt.grid(True)\n",
    "\n",
    "# Show the plot\n",
    "plt.show()"
   ]
  },
  {
   "cell_type": "markdown",
   "metadata": {},
   "source": [
    "# Final Notes\n",
    "The code that I have written for the ID3 Algorithm does work for the voting dataset.\n",
    "It works for the volcanoes dataset although it works quite slowly\n",
    "The spam dataset would be far too inconvenient to train for this code.\n",
    "\n",
    "I was hoping to have more time to optimize my code but I was mostly fixated on getting a functioning ID3 algorithm going.\n",
    "I understand that large portions of the assignment have been left undone like the research portion and some notebook portions. I am however satisfied with the amount I managed to get done considering the circumstances under which I have been working on this project."
   ]
  }
 ],
 "metadata": {
  "kernelspec": {
   "display_name": "MachineLearning",
   "language": "python",
   "name": "python3"
  },
  "language_info": {
   "codemirror_mode": {
    "name": "ipython",
    "version": 3
   },
   "file_extension": ".py",
   "mimetype": "text/x-python",
   "name": "python",
   "nbconvert_exporter": "python",
   "pygments_lexer": "ipython3",
   "version": "3.8.18"
  }
 },
 "nbformat": 4,
 "nbformat_minor": 2
}
