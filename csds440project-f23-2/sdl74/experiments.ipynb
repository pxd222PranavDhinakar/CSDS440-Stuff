{
 "cells": [
  {
   "cell_type": "code",
   "execution_count": 1,
   "id": "initial_id",
   "metadata": {
    "collapsed": true,
    "ExecuteTime": {
     "end_time": "2023-12-17T04:09:57.157193800Z",
     "start_time": "2023-12-17T04:09:32.721350600Z"
    }
   },
   "outputs": [],
   "source": [
    "from sklearn.naive_bayes import GaussianNB\n",
    "\n",
    "import self_train\n",
    "import co_training\n",
    "import util\n",
    "import co_training_extension\n",
    "import importlib\n",
    "importlib.reload(self_train)\n",
    "importlib.reload(co_training)\n",
    "importlib.reload(util)\n",
    "importlib.reload(co_training_extension)\n",
    "\n",
    "from sklearn import naive_bayes\n",
    "from sklearn import tree\n",
    "from sklearn.neighbors import KNeighborsClassifier\n",
    "from sklearn.svm import SVC\n",
    "from sklearn.ensemble import AdaBoostClassifier, RandomForestClassifier\n",
    "from sklearn import datasets as ds\n",
    "import numpy as np\n",
    "from sklearn.semi_supervised import SelfTrainingClassifier"
   ]
  },
  {
   "cell_type": "code",
   "execution_count": 2,
   "outputs": [],
   "source": [
    "# load datasets\n",
    "datasets = {}\n",
    "\n",
    "temp = ds.load_breast_cancer()\n",
    "datasets[\"cancer\"] = [np.asarray(temp.data), np.asarray(temp.target)]\n",
    "temp = ds.load_wine()\n",
    "# turning a multi-class classification problem into a binary classification problem\n",
    "data = np.asarray(temp.data)\n",
    "target = np.asarray(temp.target)\n",
    "mask = target != 2\n",
    "data = data[mask]\n",
    "target = target[mask]\n",
    "datasets[\"wine\"] = [data, target]\n",
    "\n",
    "# load models\n",
    "rfc = RandomForestClassifier(max_depth=5, n_estimators=10, max_features=1, random_state=42)\n",
    "knn = KNeighborsClassifier(3)\n",
    "gnb = GaussianNB()\n",
    "dtr = tree.DecisionTreeClassifier(max_depth=5)\n",
    "\n",
    "# load classifiers\n",
    "cotrain = co_training.CoTrain([gnb, knn, dtr])\n",
    "selftrain = self_train.SelfTrain(rfc, criterion='threshold')\n",
    "coview = co_training_extension.CoTrainView(rfc)\n",
    "classifiers = {\"Self-Training\" : selftrain, \"Co-Training\" : cotrain, \"Co-Training Multi-View\" : coview}"
   ],
   "metadata": {
    "collapsed": false,
    "ExecuteTime": {
     "end_time": "2023-12-17T04:10:04.531070Z",
     "start_time": "2023-12-17T04:10:04.300678400Z"
    }
   },
   "id": "e9a99f00212ad13a"
  },
  {
   "cell_type": "code",
   "execution_count": null,
   "outputs": [
    {
     "name": "stdout",
     "output_type": "stream",
     "text": [
      "\n",
      "for classifier:  Self-Training\n",
      "\n",
      "dataset:  cancer\n",
      "%unlabeled\tacc before\tacc after\tprecision before\tprecision after\n",
      "0.20\t0.9503\t0.9525\t0.9711\t0.9725\n",
      "0.40\t0.9484\t0.9469\t0.9727\t0.9707\n",
      "0.60\t0.9439\t0.9401\t0.9685\t0.9618\n",
      "0.80\t0.9391\t0.9387\t0.9542\t0.9622\n",
      "0.90\t0.9317\t0.9343\t0.9519\t0.9613\n",
      "0.95\t0.9135\t0.9141\t0.9217\t0.9275\n",
      "\n",
      "dataset:  wine\n",
      "%unlabeled\tacc before\tacc after\tprecision before\tprecision after\n",
      "0.20\t0.9620\t0.9488\t0.9585\t0.9589\n",
      "0.40\t0.9643\t0.9630\t0.9697\t0.9689\n",
      "0.60\t0.9485\t0.9459\t0.9385\t0.9489\n",
      "0.80\t0.9090\t0.9093\t0.8844\t0.8908\n",
      "0.90\t0.8530\t0.8317\t0.8374\t0.8541\n",
      "0.95\t0.7431\t0.6960\t0.6889\t0.6724\n",
      "\n",
      "for classifier:  Co-Training\n",
      "\n",
      "dataset:  cancer\n",
      "%unlabeled\tacc before\tacc after\tprecision before\tprecision after\n",
      "0.20\t0.9541\t0.9559\t0.9801\t0.9777\n",
      "0.40\t0.9514\t0.9499\t0.9733\t0.9729\n",
      "0.60\t0.9475\t0.9449\t0.9694\t0.9703\n",
      "0.80\t0.9407\t0.9386\t0.9710\t0.9727\n",
      "0.90\t0.9354\t0.9357\t0.9662\t0.9694\n",
      "0.95\t0.9175\t0.9207\t0.9552\t0.9592\n",
      "\n",
      "dataset:  wine\n",
      "%unlabeled\tacc before\tacc after\tprecision before\tprecision after\n",
      "0.20\t0.9735\t0.9706\t0.9821\t0.9852\n",
      "0.40\t0.9564\t0.9587\t0.9564\t0.9562\n",
      "0.60\t0.9540\t0.9547\t0.9713\t0.9704\n",
      "0.80\t0.9492\t0.9415\t0.9425\t0.9273\n",
      "0.90\t0.9227\t0.9145\t0.9310\t0.9073\n",
      "0.95\t0.7257\t0.7334\t0.7799\t0.7889\n",
      "\n",
      "for classifier:  Co-Training Multi-View\n",
      "\n",
      "dataset:  cancer\n",
      "%unlabeled\tacc before\tacc after\tprecision before\tprecision after\n"
     ]
    }
   ],
   "source": [
    "# run experiments\n",
    "percent_values = [.20, .40, .60, .80, .90, .95]  # percent of the data to be unlabeled\n",
    "numTrials = 5  # number of trials to run (more trials for smoother data but longer processing time)\n",
    "for clf_name, clf in classifiers.items():\n",
    "    print(\"\\nfor classifier: \", clf_name)\n",
    "    for dataset_name, dataset in datasets.items():\n",
    "        print(\"\\ndataset: \", dataset_name)\n",
    "        data = dataset[0]\n",
    "        target = dataset[1]\n",
    "        #  this dataset is too big for the storage complexity of co-training multi-view\n",
    "        if clf_name == \"Co-Training Multi-View\" and dataset_name == \"credit card fraud\":\n",
    "            continue\n",
    "        \n",
    "        print(\"%unlabeled\\tacc before\\tacc after\\tprecision before\\tprecision after\")\n",
    "        for percent in percent_values:\n",
    "            total_stats = np.zeros(4)\n",
    "            for i in range(numTrials):\n",
    "                try:\n",
    "                    stats = util.performAnalysis(clf, data, target, percent, output=False)\n",
    "                    total_stats = np.add(total_stats, stats)\n",
    "                except ValueError:\n",
    "                    # occasionally, not enough datapoints are given labels. In this case, we just don't add anything to total_stats and try again (adding 1 to number of trials)\n",
    "                    numTrials += 1\n",
    "            # average the stats\n",
    "            total_stats = total_stats / numTrials\n",
    "            to_print = f'{percent:.2f}\\t{(total_stats[0]):.4f}\\t{(total_stats[1]):.4f}\\t{(total_stats[2]):.4f}\\t{(total_stats[3]):.4f}'\n",
    "            print(to_print)"
   ],
   "metadata": {
    "collapsed": false,
    "is_executing": true,
    "ExecuteTime": {
     "start_time": "2023-12-17T04:10:07.446593Z"
    }
   },
   "id": "b0c9a168caa99231"
  },
  {
   "cell_type": "code",
   "execution_count": 31,
   "outputs": [],
   "source": [
    "    "
   ],
   "metadata": {
    "collapsed": false,
    "ExecuteTime": {
     "end_time": "2023-12-17T01:56:43.161441200Z",
     "start_time": "2023-12-17T01:56:43.152387800Z"
    }
   },
   "id": "3c012d5a973577c9"
  }
 ],
 "metadata": {
  "kernelspec": {
   "display_name": "Python 3",
   "language": "python",
   "name": "python3"
  },
  "language_info": {
   "codemirror_mode": {
    "name": "ipython",
    "version": 2
   },
   "file_extension": ".py",
   "mimetype": "text/x-python",
   "name": "python",
   "nbconvert_exporter": "python",
   "pygments_lexer": "ipython2",
   "version": "2.7.6"
  }
 },
 "nbformat": 4,
 "nbformat_minor": 5
}
