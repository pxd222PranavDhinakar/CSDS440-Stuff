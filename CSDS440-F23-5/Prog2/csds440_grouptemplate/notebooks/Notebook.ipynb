{
 "cells": [
  {
   "cell_type": "markdown",
   "metadata": {},
   "source": [
    "## Importing Libraries"
   ]
  },
  {
   "cell_type": "code",
   "execution_count": 1,
   "metadata": {},
   "outputs": [],
   "source": [
    "import sys\n",
    "import os\n",
    "import scipy\n",
    "import json5\n",
    "import argparse\n",
    "import numpy as np\n",
    "import pandas as pd\n",
    "import importlib\n",
    "import matplotlib.pyplot as plt\n",
    "\n",
    "# Get the current directory\n",
    "notebook_dir = os.getcwd()\n",
    "\n",
    "# The src directory is one level up from the notebook directory\n",
    "src_dir = os.path.join(notebook_dir, '..', 'src')\n",
    "\n",
    "# Add src to the system path\n",
    "sys.path.append(src_dir)\n",
    "import util\n",
    "import nbayes\n",
    "import logreg\n",
    "from util import cv_split, accuracy, precision, recall, roc_curve_pairs, auc\n",
    "from nbayes import NaiveBayesClassifier\n",
    "from logreg import LogisticRegression\n",
    "importlib.reload(util)\n",
    "importlib.reload(nbayes)\n",
    "importlib.reload(logreg)\n",
    "\n",
    "\n",
    "\n",
    "from scipy.special import expit, logsumexp\n"
   ]
  },
  {
   "cell_type": "markdown",
   "metadata": {},
   "source": [
    "## Preprocessing Functions"
   ]
  },
  {
   "cell_type": "code",
   "execution_count": 2,
   "metadata": {},
   "outputs": [],
   "source": [
    "# Set the random seed for repeatability\n",
    "np.random.seed(12345)\n",
    "\n",
    "def convert_voting_symbols(value):\n",
    "    if value == '+':\n",
    "        return 1  # Yea votes\n",
    "    elif value == '-':\n",
    "        return -1  # Nay votes\n",
    "    elif value == '0':\n",
    "        return 0  # Abstain\n",
    "    else:\n",
    "        # If there is another value, we keep it as it is.\n",
    "        return value\n",
    "    \n",
    "# Identify and encode categorical features manually\n",
    "def encode_categorical(array):\n",
    "    # Identify unique categories\n",
    "    categories = np.unique(array)\n",
    "    encoding = {category: idx for idx, category in enumerate(categories)}\n",
    "    # Encode the categorical features\n",
    "    encoded_array = np.vectorize(encoding.get)(array)\n",
    "    return encoded_array, encoding\n",
    "\n",
    "# Function to one-hot encode a single column\n",
    "def one_hot_encode(column):\n",
    "    unique_values = np.unique(column)\n",
    "    one_hot_encoded = np.zeros((column.size, unique_values.size))\n",
    "    for i, unique in enumerate(unique_values):\n",
    "        one_hot_encoded[:, i] = (column == unique).astype(float)\n",
    "    return one_hot_encoded\n",
    "\n",
    "# Load and preprocess data function\n",
    "def load_data(filepath):\n",
    "    data_df = pd.read_csv(filepath, header=None, sep=',')\n",
    "\n",
    "    # Remove the first column (assuming it's an identifier)\n",
    "    data_df.drop(columns=data_df.columns[0], inplace=True)\n",
    "\n",
    "    # Convert '+' and '-' to numerical values for voting data\n",
    "    if 'voting' in filepath:\n",
    "        # Apply 'convert_voting_symbols' to each element in the DataFrame\n",
    "        data_df = data_df.apply(lambda col: col.map(convert_voting_symbols))\n",
    "\n",
    "    # If the file is spam.data, encode categorical variables\n",
    "    if 'spam' in filepath:\n",
    "        # Identify columns with string-type categorical data and apply encoding\n",
    "        categorical_features_indices = [idx for idx, col in enumerate(data_df.columns) if data_df[col].dtype == 'object']\n",
    "        for col_index in categorical_features_indices:\n",
    "            encoded_column, encoding = encode_categorical(data_df.iloc[:, col_index])\n",
    "            data_df.iloc[:, col_index] = encoded_column\n",
    "\n",
    "            # Check if one-hot encoding is needed (based on number of unique values)\n",
    "            if len(encoding) > 2:  # More than 2 unique values, one-hot encode\n",
    "                one_hot = one_hot_encode(encoded_column)\n",
    "                # Drop the original column and add the one-hot encoded columns\n",
    "                data_df = data_df.drop(col_index, axis=1)\n",
    "                for i, unique in enumerate(encoding):\n",
    "                    data_df.insert(col_index + i, f'{col_index}_{unique}', one_hot[:, i])\n",
    "\n",
    "    # Separate features and labels\n",
    "    X = data_df.iloc[:, :-1].values\n",
    "    y = data_df.iloc[:, -1].values\n",
    "\n",
    "    # Convert all data to float, except for labels which should be integers\n",
    "    X = X.astype(float)\n",
    "    y = y.astype(int)\n",
    "\n",
    "    return X, y"
   ]
  },
  {
   "cell_type": "markdown",
   "metadata": {},
   "source": [
    "## Evaluation"
   ]
  },
  {
   "cell_type": "code",
   "execution_count": 3,
   "metadata": {},
   "outputs": [],
   "source": [
    "# Function to perform naive Bayes classification and evaluation\n",
    "def evaluate_naive_bayes(X, y, m_estimate, dataset_name):\n",
    "    cv_results = cv_split(X, y, folds=5, stratified=True)\n",
    "    accuracies, precisions, recalls, aucs = [], [], [], []\n",
    "    for fold, (X_train, y_train, X_test, y_test) in enumerate(cv_results):\n",
    "        model = NaiveBayesClassifier(10, m_estimate)\n",
    "        model.fit(X_train, y_train)\n",
    "        predictions = model.predict(X_test)\n",
    "        prob_predictions = model.predict_proba(X_test)\n",
    "        accuracies.append(util.accuracy(y_test, predictions))\n",
    "        precisions.append(util.precision(y_test, predictions))\n",
    "        recalls.append(util.recall(y_test, predictions))\n",
    "        aucs.append(util.auc(y_test, prob_predictions[:, 1])) \n",
    "\n",
    "    metrics = {\n",
    "        'accuracy_mean': np.mean(accuracies),\n",
    "        'accuracy_std': np.std(accuracies),\n",
    "        'precision_mean': np.mean(precisions),\n",
    "        'precision_std': np.std(precisions),\n",
    "        'recall_mean': np.mean(recalls),\n",
    "        'recall_std': np.std(recalls),\n",
    "        'roc_auc': np.mean(aucs)\n",
    "    }\n",
    "    \n",
    "    # Folder where the files will be saved\n",
    "    folder_name = 'naive_bayes_metrics'\n",
    "\n",
    "    # Check if the folder exists, and if not, create it\n",
    "    if not os.path.exists(folder_name):\n",
    "        os.makedirs(folder_name)\n",
    "\n",
    "    # Save metrics to a JSON5 file, named according to the dataset\n",
    "    file_name = f'{folder_name}/naive_bayes_metrics_{dataset_name}.json5'\n",
    "    with open(file_name, 'w') as file:\n",
    "        json5.dump(metrics, file)\n",
    "    \n",
    "    return metrics\n",
    "\n"
   ]
  },
  {
   "cell_type": "code",
   "execution_count": 4,
   "metadata": {},
   "outputs": [],
   "source": [
    "# Function to perform Logistic Regression classification and evaluation\n",
    "def evaluate_logreg(X, y, lambda_reg, dataset_name):\n",
    "    cv_results = cv_split(X, y, folds=5, stratified=True)\n",
    "    accuracies, precisions, recalls, aucs = [], [], [], []\n",
    "    for fold, (X_train, y_train, X_test, y_test) in enumerate(cv_results):\n",
    "        model = LogisticRegression(learning_rate=0.01, num_iterations=1000, lambda_reg=lambda_reg)\n",
    "        model.fit(X_train, y_train)\n",
    "        predictions = model.predict(X_test)\n",
    "        prob_predictions = model.predict_proba(X_test)\n",
    "        accuracies.append(accuracy(y_test, predictions))\n",
    "        precisions.append(precision(y_test, predictions))\n",
    "        recalls.append(recall(y_test, predictions))        \n",
    "        aucs.append(auc(y_test, prob_predictions[:, 1])) \n",
    "\n",
    "    metrics = {\n",
    "        'accuracy_mean': np.mean(accuracies),\n",
    "        'accuracy_std': np.std(accuracies),\n",
    "        'precision_mean': np.mean(precisions),\n",
    "        'precision_std': np.std(precisions),\n",
    "        'recall_mean': np.mean(recalls),\n",
    "        'recall_std': np.std(recalls),\n",
    "        'roc_auc': np.mean(aucs)\n",
    "    }\n",
    "\n",
    "    # Folder where the files will be saved\n",
    "    folder_name = 'logistic_regression_metrics'\n",
    "\n",
    "    # Check if the folder exists, and if not, create it\n",
    "    if not os.path.exists(folder_name):\n",
    "        os.makedirs(folder_name)\n",
    "\n",
    "    # Save metrics to a JSON5 file, named according to the dataset\n",
    "    file_name = f'{folder_name}/logreg_metrics_{dataset_name}.json5'\n",
    "    with open(file_name, 'w') as file:\n",
    "        json5.dump(metrics, file)\n",
    "    \n",
    "    return metrics\n"
   ]
  },
  {
   "cell_type": "code",
   "execution_count": 5,
   "metadata": {},
   "outputs": [],
   "source": [
    "# Loading data\n",
    "spam_X, spam_y = load_data(\"../440data/spam/spam.data\")\n",
    "voting_X, voting_y = load_data(\"../440data/voting/voting.data\")\n",
    "volcanoes_X, volcanoes_y = load_data(\"../440data/volcanoes/volcanoes.data\")"
   ]
  },
  {
   "cell_type": "code",
   "execution_count": 6,
   "metadata": {},
   "outputs": [],
   "source": [
    "# Evaluate Naive Bayes on the datasets\n",
    "# And Store the metrics in a JSON5 file\n",
    "nb_metrics_spam = evaluate_naive_bayes(spam_X, spam_y, m_estimate=0.01, dataset_name=\"spam\")\n",
    "nb_metrics_voting = evaluate_naive_bayes(voting_X, voting_y, m_estimate=0.01, dataset_name=\"voting\")\n",
    "nb_metrics_volcanoes = evaluate_naive_bayes(volcanoes_X, volcanoes_y, m_estimate=0.01, dataset_name=\"volcanoes\")\n",
    "\n"
   ]
  },
  {
   "cell_type": "code",
   "execution_count": 7,
   "metadata": {},
   "outputs": [],
   "source": [
    "# Evaluate Logistic Regression on the dataset\n",
    "# And Store the metrics in a JSON5 file\n",
    "logreg_metrics_spam = evaluate_logreg(spam_X, spam_y, lambda_reg=0.01, dataset_name=\"spam\")\n",
    "logreg_metrics_voting = evaluate_logreg(voting_X, voting_y, lambda_reg=0.01, dataset_name=\"voting\")\n",
    "logreg_metrics_volcanoes = evaluate_logreg(volcanoes_X, volcanoes_y, lambda_reg=0.01, dataset_name=\"volcanoes\")"
   ]
  },
  {
   "cell_type": "markdown",
   "metadata": {},
   "source": [
    "## Naive Bayes Table"
   ]
  },
  {
   "cell_type": "code",
   "execution_count": 8,
   "metadata": {},
   "outputs": [
    {
     "name": "stdout",
     "output_type": "stream",
     "text": [
      "Naive Bayes Model Parameters: m=0.01, bins=10\n"
     ]
    },
    {
     "data": {
      "text/html": [
       "<div>\n",
       "<style scoped>\n",
       "    .dataframe tbody tr th:only-of-type {\n",
       "        vertical-align: middle;\n",
       "    }\n",
       "\n",
       "    .dataframe tbody tr th {\n",
       "        vertical-align: top;\n",
       "    }\n",
       "\n",
       "    .dataframe thead th {\n",
       "        text-align: right;\n",
       "    }\n",
       "</style>\n",
       "<table border=\"1\" class=\"dataframe\">\n",
       "  <thead>\n",
       "    <tr style=\"text-align: right;\">\n",
       "      <th></th>\n",
       "      <th>volcanoes</th>\n",
       "      <th>voting</th>\n",
       "      <th>spam</th>\n",
       "    </tr>\n",
       "  </thead>\n",
       "  <tbody>\n",
       "    <tr>\n",
       "      <th>Accuracy</th>\n",
       "      <td>0.634 ± 0.000</td>\n",
       "      <td>0.986 ± 0.000</td>\n",
       "      <td>0.699 ± 0.000</td>\n",
       "    </tr>\n",
       "    <tr>\n",
       "      <th>Precision</th>\n",
       "      <td>0.467 ± 0.000</td>\n",
       "      <td>0.990 ± 0.000</td>\n",
       "      <td>0.743 ± 0.000</td>\n",
       "    </tr>\n",
       "    <tr>\n",
       "      <th>Recall</th>\n",
       "      <td>0.833 ± 0.000</td>\n",
       "      <td>0.980 ± 0.000</td>\n",
       "      <td>0.795 ± 0.000</td>\n",
       "    </tr>\n",
       "    <tr>\n",
       "      <th>ROC AUC</th>\n",
       "      <td>0.731</td>\n",
       "      <td>0.996</td>\n",
       "      <td>0.753</td>\n",
       "    </tr>\n",
       "  </tbody>\n",
       "</table>\n",
       "</div>"
      ],
      "text/plain": [
       "               volcanoes         voting           spam\n",
       "Accuracy   0.634 ± 0.000  0.986 ± 0.000  0.699 ± 0.000\n",
       "Precision  0.467 ± 0.000  0.990 ± 0.000  0.743 ± 0.000\n",
       "Recall     0.833 ± 0.000  0.980 ± 0.000  0.795 ± 0.000\n",
       "ROC AUC            0.731          0.996          0.753"
      ]
     },
     "execution_count": 8,
     "metadata": {},
     "output_type": "execute_result"
    }
   ],
   "source": [
    "# Load metrics for Naive Bayes for each dataset\n",
    "datasets = [\"volcanoes\", \"voting\", \"spam\"]\n",
    "nb_metrics = {}\n",
    "\n",
    "for dataset in datasets:\n",
    "    with open(f'naive_bayes_metrics/naive_bayes_metrics_{dataset}.json5', 'r') as file:\n",
    "        nb_metrics[dataset] = json5.load(file)\n",
    "\n",
    "# Create a DataFrame for the Naive Bayes metrics with mean ± std (3 decimal points)\n",
    "nb_metrics_data = {\n",
    "    dataset: [f\"{nb_metrics[dataset]['accuracy_mean']:.3f} ± {nb_metrics[dataset]['accuracy_std']:.3f}\",\n",
    "              f\"{nb_metrics[dataset]['precision_mean']:.3f} ± {nb_metrics[dataset]['precision_std']:.3f}\",\n",
    "              f\"{nb_metrics[dataset]['recall_mean']:.3f} ± {nb_metrics[dataset]['recall_std']:.3f}\",\n",
    "              f\"{nb_metrics[dataset]['roc_auc']:.3f}\"]\n",
    "    for dataset in datasets\n",
    "}\n",
    "\n",
    "nb_metrics_df = pd.DataFrame(nb_metrics_data, index=['Accuracy', 'Precision', 'Recall', 'ROC AUC'])\n",
    "\n",
    "# Display the Naive Bayes metrics table with model parameters\n",
    "print(\"Naive Bayes Model Parameters: m=0.01, bins=10\")\n",
    "nb_metrics_df\n",
    "\n"
   ]
  },
  {
   "cell_type": "markdown",
   "metadata": {},
   "source": [
    "## Logistic Regression Table"
   ]
  },
  {
   "cell_type": "code",
   "execution_count": 9,
   "metadata": {},
   "outputs": [
    {
     "name": "stdout",
     "output_type": "stream",
     "text": [
      "Logistic Regression Model Parameters: λ=0.01\n"
     ]
    },
    {
     "data": {
      "text/html": [
       "<div>\n",
       "<style scoped>\n",
       "    .dataframe tbody tr th:only-of-type {\n",
       "        vertical-align: middle;\n",
       "    }\n",
       "\n",
       "    .dataframe tbody tr th {\n",
       "        vertical-align: top;\n",
       "    }\n",
       "\n",
       "    .dataframe thead th {\n",
       "        text-align: right;\n",
       "    }\n",
       "</style>\n",
       "<table border=\"1\" class=\"dataframe\">\n",
       "  <thead>\n",
       "    <tr style=\"text-align: right;\">\n",
       "      <th></th>\n",
       "      <th>volcanoes</th>\n",
       "      <th>voting</th>\n",
       "      <th>spam</th>\n",
       "    </tr>\n",
       "  </thead>\n",
       "  <tbody>\n",
       "    <tr>\n",
       "      <th>Accuracy</th>\n",
       "      <td>0.679 ± 0.000</td>\n",
       "      <td>0.986 ± 0.000</td>\n",
       "      <td>0.375 ± 0.000</td>\n",
       "    </tr>\n",
       "    <tr>\n",
       "      <th>Precision</th>\n",
       "      <td>0.941 ± 0.000</td>\n",
       "      <td>1.000 ± 0.000</td>\n",
       "      <td>0.509 ± 0.000</td>\n",
       "    </tr>\n",
       "    <tr>\n",
       "      <th>Recall</th>\n",
       "      <td>0.022 ± 0.000</td>\n",
       "      <td>0.969 ± 0.000</td>\n",
       "      <td>0.026 ± 0.000</td>\n",
       "    </tr>\n",
       "    <tr>\n",
       "      <th>ROC AUC</th>\n",
       "      <td>0.517</td>\n",
       "      <td>0.997</td>\n",
       "      <td>0.492</td>\n",
       "    </tr>\n",
       "  </tbody>\n",
       "</table>\n",
       "</div>"
      ],
      "text/plain": [
       "               volcanoes         voting           spam\n",
       "Accuracy   0.679 ± 0.000  0.986 ± 0.000  0.375 ± 0.000\n",
       "Precision  0.941 ± 0.000  1.000 ± 0.000  0.509 ± 0.000\n",
       "Recall     0.022 ± 0.000  0.969 ± 0.000  0.026 ± 0.000\n",
       "ROC AUC            0.517          0.997          0.492"
      ]
     },
     "execution_count": 9,
     "metadata": {},
     "output_type": "execute_result"
    }
   ],
   "source": [
    "# Load metrics for Logistic Regression for each dataset\n",
    "datasets = [\"volcanoes\", \"voting\", \"spam\"]\n",
    "logreg_metrics = {}\n",
    "\n",
    "for dataset in datasets:\n",
    "    with open(f'logistic_regression_metrics/logreg_metrics_{dataset}.json5', 'r') as file:\n",
    "        logreg_metrics[dataset] = json5.load(file)\n",
    "\n",
    "# Create a DataFrame for the Logistic Regression metrics with mean ± std (3 decimal points)\n",
    "logreg_metrics_data = {\n",
    "    dataset: [f\"{logreg_metrics[dataset]['accuracy_mean']:.3f} ± {logreg_metrics[dataset]['accuracy_std']:.3f}\",\n",
    "              f\"{logreg_metrics[dataset]['precision_mean']:.3f} ± {logreg_metrics[dataset]['precision_std']:.3f}\",\n",
    "              f\"{logreg_metrics[dataset]['recall_mean']:.3f} ± {logreg_metrics[dataset]['recall_std']:.3f}\",\n",
    "              f\"{logreg_metrics[dataset]['roc_auc']:.3f}\"]\n",
    "    for dataset in datasets\n",
    "}\n",
    "\n",
    "logreg_metrics_df = pd.DataFrame(logreg_metrics_data, index=['Accuracy', 'Precision', 'Recall', 'ROC AUC'])\n",
    "\n",
    "# Display the Logistic Regression metrics table with model parameters\n",
    "print(\"Logistic Regression Model Parameters: λ=0.01\")\n",
    "logreg_metrics_df\n",
    "\n"
   ]
  },
  {
   "cell_type": "markdown",
   "metadata": {},
   "source": [
    "## Effect of Lambda"
   ]
  },
  {
   "cell_type": "code",
   "execution_count": 10,
   "metadata": {},
   "outputs": [],
   "source": [
    "# Loading and running Logistic Regression model on the datasets with different Lambda values\n",
    "import numpy as np\n",
    "import matplotlib.pyplot as plt\n",
    "\n",
    "# Defining the lambda values to test\n",
    "lambda_values = [0, 0.001, 0.01, 0.1]\n",
    "\n",
    "# Datasets\n",
    "datasets = {\n",
    "    'volcanoes': (volcanoes_X, volcanoes_y),\n",
    "    'voting': (voting_X, voting_y),\n",
    "    'spam': (spam_X, spam_y)\n",
    "}\n",
    "\n",
    "# Store AUCs for each dataset and lambda value\n",
    "auc_scores = {dataset: [] for dataset in datasets}\n",
    "\n",
    "# Evaluate each dataset\n",
    "for dataset_name, (X, y) in datasets.items():\n",
    "    for lambda_reg in lambda_values:\n",
    "        model = LogisticRegression(learning_rate=0.01, num_iterations=1000, lambda_reg=lambda_reg)\n",
    "        model.fit(X, y)\n",
    "        prob_predictions = model.predict_proba(X)\n",
    "        auc_score = auc(y, prob_predictions[:, 1])  # Replace with your AUC calculation method\n",
    "        auc_scores[dataset_name].append(auc_score)\n"
   ]
  },
  {
   "cell_type": "code",
   "execution_count": 11,
   "metadata": {},
   "outputs": [
    {
     "data": {
      "image/png": "[encoded data removed]",
      "text/plain": [
       "<Figure size 640x480 with 1 Axes>"
      ]
     },
     "metadata": {},
     "output_type": "display_data"
    }
   ],
   "source": [
    "# Plotting the AUC scores for each lambda value\n",
    "for dataset_name, scores in auc_scores.items():\n",
    "    plt.plot(lambda_values, scores, marker='o', label=dataset_name)\n",
    "\n",
    "plt.xlabel('Lambda (λ)')\n",
    "plt.ylabel('Area Under ROC Curve (AUC)')\n",
    "plt.title('Effect of λ on Logistic Regression AUC')\n",
    "plt.legend()\n",
    "plt.grid(True)\n",
    "plt.show()\n"
   ]
  },
  {
   "cell_type": "markdown",
   "metadata": {},
   "source": [
    "## Research Extension"
   ]
  },
  {
   "cell_type": "markdown",
   "metadata": {},
   "source": [
    "**_Hypothesis:_**\n",
    "The presence of non-independent features within a dataset negatively impacts the performance of Naive Bayes classifiers more significantly than logistic regression, due to the fundamental assumption of feature independence in Naive Bayes.\n",
    "\n",
    "**_Rationale:_**\n",
    "Naive Bayes classifiers assume that all features are independent given the class label. However, this assumption is rarely true in real-world datasets. Logistic regression, on the other hand, does not make this assumption and may be more robust to the presence of feature correlations.\n",
    "\n",
    "**_Evaluation Method:_**\n",
    "To test this hypothesis, we will introduce synthetic feature dependencies into a dataset and evaluate how the performance of each classifier changes.\n",
    "\n",
    "1. **Dataset Preparation:**\n",
    "   - Start with a dataset where features are reasonably independent.\n",
    "   - Introduce dependencies between features by combining them through a deterministic function, such as adding or multiplying features together.\n",
    "\n",
    "2. **Model Evaluation:**\n",
    "   - Train and evaluate both Naive Bayes and logistic regression models on the original dataset.\n",
    "   - Train and evaluate the models again on the modified dataset with introduced feature dependencies.\n",
    "\n",
    "3. **Metrics:**\n",
    "   - Compare accuracy, precision, recall, and AUC before and after introducing dependencies for both classifiers.\n",
    "\n",
    "4. **Statistical Testing:**\n",
    "   - Use statistical tests to determine if the changes in performance metrics are significant.\n",
    "\n",
    "**_Expected Outcome:_**\n",
    "The performance of Naive Bayes should deteriorate more than logistic regression when dependencies between features are introduced, validating the hypothesis.\n",
    "\n",
    "**_Insight:_**\n",
    "This evaluation could offer insights into the robustness of Naive Bayes and logistic regression models in the face of violated assumptions, guiding model choice in situations where feature dependencies are known or suspected.\n",
    "\n",
    "**_Technical Strength:_**\n",
    "The approach involves not only empirical evaluation but also the application of statistical tests to establish the significance of the observations, adding rigor to the findings.\n",
    "\n",
    "**_Originality:_**\n",
    "While the independence assumption of Naive Bayes is well-discussed, directly comparing the impact of this assumption's violation against logistic regression in a controlled setting adds a novel aspect to the understanding of these algorithms.\n",
    "\n",
    "**_Clarity:_**\n",
    "The hypothesis is clear, with a direct method of evaluation and specific expected outcomes, facilitating transparency and reproducibility in the research."
   ]
  },
  {
   "cell_type": "markdown",
   "metadata": {},
   "source": [
    "## Introduce Feature Dependencies"
   ]
  },
  {
   "cell_type": "code",
   "execution_count": 20,
   "metadata": {},
   "outputs": [],
   "source": [
    "def introduce_dependency(X, feature_indices=(0, 1)):\n",
    "    \"\"\"\n",
    "    Introduce a synthetic dependency between two features by adding them together.\n",
    "    The new feature is appended to the dataset.\n",
    "\n",
    "    Parameters:\n",
    "    X: np.ndarray - The dataset.\n",
    "    feature_indices: tuple - Indices of the two features to combine.\n",
    "\n",
    "    Returns:\n",
    "    np.ndarray - The modified dataset with an additional dependent feature.\n",
    "    \"\"\"\n",
    "    new_feature = X[:, feature_indices[0]] + X[:, feature_indices[1]]\n",
    "    return np.column_stack((X, new_feature))\n"
   ]
  },
  {
   "cell_type": "markdown",
   "metadata": {},
   "source": [
    "## Evaluating Models on Datasets with Dependencies"
   ]
  },
  {
   "cell_type": "code",
   "execution_count": 21,
   "metadata": {},
   "outputs": [],
   "source": [
    "# Modify each dataset to introduce dependencies\n",
    "spam_X_mod = introduce_dependency(spam_X)\n",
    "voting_X_mod = introduce_dependency(voting_X)\n",
    "volcanoes_X_mod = introduce_dependency(volcanoes_X)\n",
    "\n",
    "# Evaluate Naive Bayes on modified datasets\n",
    "nb_metrics_spam_mod = evaluate_naive_bayes(spam_X_mod, spam_y, m_estimate=0.01, dataset_name=\"spam_mod\")\n",
    "nb_metrics_voting_mod = evaluate_naive_bayes(voting_X_mod, voting_y, m_estimate=0.01, dataset_name=\"voting_mod\")\n",
    "nb_metrics_volcanoes_mod = evaluate_naive_bayes(volcanoes_X_mod, volcanoes_y, m_estimate=0.01, dataset_name=\"volcanoes_mod\")\n",
    "\n",
    "# Evaluate Logistic Regression on modified datasets\n",
    "logreg_metrics_spam_mod = evaluate_logreg(spam_X_mod, spam_y, lambda_reg=0.01, dataset_name=\"spam_mod\")\n",
    "logreg_metrics_voting_mod = evaluate_logreg(voting_X_mod, voting_y, lambda_reg=0.01, dataset_name=\"voting_mod\")\n",
    "logreg_metrics_volcanoes_mod = evaluate_logreg(volcanoes_X_mod, volcanoes_y, lambda_reg=0.01, dataset_name=\"volcanoes_mod\")\n"
   ]
  },
  {
   "cell_type": "code",
   "execution_count": 23,
   "metadata": {},
   "outputs": [],
   "source": [
    "# Function to load metrics from a JSON5 file\n",
    "def load_metrics(filename):\n",
    "    with open(filename, 'r') as file:\n",
    "        return json5.load(file)\n",
    "\n",
    "# Load metrics for original and modified datasets\n",
    "datasets = [\"spam\", \"voting\", \"volcanoes\"]\n",
    "nbayes_metrics_original = {dataset: load_metrics(f'naive_bayes_metrics/naive_bayes_metrics_{dataset}.json5') for dataset in datasets}\n",
    "nbayes_metrics_modified = {dataset: load_metrics(f'naive_bayes_metrics/naive_bayes_metrics_{dataset}_mod.json5') for dataset in datasets}\n",
    "\n",
    "logreg_metrics_original = {dataset: load_metrics(f'logistic_regression_metrics/logreg_metrics_{dataset}.json5') for dataset in datasets}\n",
    "logreg_metrics_modified = {dataset: load_metrics(f'logistic_regression_metrics/logreg_metrics_{dataset}_mod.json5') for dataset in datasets}\n",
    "\n",
    "# Convert to DataFrame for easier comparison\n",
    "nbayes_df_original = pd.DataFrame(nbayes_metrics_original).T\n",
    "nbayes_df_modified = pd.DataFrame(nbayes_metrics_modified).T\n",
    "\n",
    "logreg_df_original = pd.DataFrame(logreg_metrics_original).T\n",
    "logreg_df_modified = pd.DataFrame(logreg_metrics_modified).T\n",
    "\n",
    "# Add a suffix to distinguish between original and modified\n",
    "nbayes_df_original = nbayes_df_original.add_suffix('_orig')\n",
    "nbayes_df_modified = nbayes_df_modified.add_suffix('_mod')\n",
    "\n",
    "logreg_df_original = logreg_df_original.add_suffix('_orig')\n",
    "logreg_df_modified = logreg_df_modified.add_suffix('_mod')\n"
   ]
  },
  {
   "cell_type": "code",
   "execution_count": 26,
   "metadata": {},
   "outputs": [
    {
     "data": {
      "image/png": "[encoded data removed]",
      "text/plain": [
       "<Figure size 640x480 with 1 Axes>"
      ]
     },
     "metadata": {},
     "output_type": "display_data"
    }
   ],
   "source": [
    "# Function to plot comparison between original and modified datasets for Naive Bayes Classifier\n",
    "def plot_comparison(metric_name):\n",
    "    # Extracting metric for plotting\n",
    "    orig_metrics = nbayes_df_original[f'{metric_name}_orig']\n",
    "    mod_metrics = nbayes_df_modified[f'{metric_name}_mod']\n",
    "\n",
    "    # Create a bar plot\n",
    "    bar_width = 0.35\n",
    "    index = range(len(datasets))\n",
    "\n",
    "    plt.bar(index, orig_metrics, bar_width, label='Original')\n",
    "    plt.bar([i + bar_width for i in index], mod_metrics, bar_width, label='Modified')\n",
    "\n",
    "    plt.xlabel('Dataset')\n",
    "    plt.ylabel(metric_name)\n",
    "    plt.title(f'Comparison of {metric_name} for Original vs Modified Datasets of Naive Bayes Classifier')\n",
    "    plt.xticks([i + bar_width / 2 for i in index], datasets)\n",
    "    plt.legend()\n",
    "\n",
    "    plt.tight_layout()\n",
    "    plt.show()\n",
    "\n",
    "# Plot comparison for AUC\n",
    "plot_comparison('roc_auc')\n"
   ]
  },
  {
   "cell_type": "code",
   "execution_count": 25,
   "metadata": {},
   "outputs": [
    {
     "data": {
      "image/png": "[encoded data removed]",
      "text/plain": [
       "<Figure size 640x480 with 1 Axes>"
      ]
     },
     "metadata": {},
     "output_type": "display_data"
    }
   ],
   "source": [
    "# Function to plot comparison between original and modified datasets for Logistic Regression Classifier\n",
    "def plot_comparison(metric_name):\n",
    "    # Extracting metric for plotting\n",
    "    orig_metrics = logreg_df_original[f'{metric_name}_orig']\n",
    "    mod_metrics = logreg_df_modified[f'{metric_name}_mod']\n",
    "\n",
    "    # Create a bar plot\n",
    "    bar_width = 0.35\n",
    "    index = range(len(datasets))\n",
    "\n",
    "    plt.bar(index, orig_metrics, bar_width, label='Original')\n",
    "    plt.bar([i + bar_width for i in index], mod_metrics, bar_width, label='Modified')\n",
    "\n",
    "    plt.xlabel('Dataset')\n",
    "    plt.ylabel(metric_name)\n",
    "    plt.title(f'Comparison of {metric_name} for Original vs Modified Datasets of Logistic Regression Classifier')\n",
    "    plt.xticks([i + bar_width / 2 for i in index], datasets)\n",
    "    plt.legend()\n",
    "\n",
    "    plt.tight_layout()\n",
    "    plt.show()\n",
    "\n",
    "# Plot comparison for AUC\n",
    "plot_comparison('roc_auc')"
   ]
  },
  {
   "cell_type": "markdown",
   "metadata": {},
   "source": [
    "## Research Conclusions"
   ]
  },
  {
   "cell_type": "markdown",
   "metadata": {},
   "source": [
    "**Hypothesis**: The presence of non-independent features within a dataset negatively impacts the performance of Naive Bayes classifiers more significantly than logistic regression.\n",
    "\n",
    "**Observations from the Graphs**:\n",
    "- For the Naive Bayes classifier, the roc_auc for the original and modified datasets appears to be very close for the spam and voting datasets. There's a slight decrease in performance on the modified dataset for the volcanoes dataset.\n",
    "- For the Logistic Regression classifier, the roc_auc shows more variation between the original and modified datasets. Interestingly, the roc_auc increases for the modified spam and voting datasets, while it decreases for the volcanoes dataset.\n",
    "\n",
    "**Conclusion**:\n",
    "The graphs indicate that the introduction of feature dependencies does not uniformly degrade the performance of the Naive Bayes classifier. In fact, the change in performance due to the introduced dependencies is minimal. On the other hand, Logistic Regression shows varying performance, with some datasets experiencing an increase in AUC upon modification, which is counterintuitive and warrants further investigation.\n",
    "\n",
    "This could suggest that the Naive Bayes classifier is not as sensitive to the independence assumption as traditionally thought, at least for the feature dependencies introduced in this study. It also suggests that Logistic Regression may be capturing interactions between features that Naive Bayes does not, which could sometimes lead to improved performance when dependencies are present.\n",
    "\n",
    "**Insights for Future Research**:\n",
    "Given the unexpected increase in AUC for the Logistic Regression on modified datasets, future research could explore the nature of the dependencies introduced and how they relate to the decision boundaries constructed by Logistic Regression. It would be beneficial to delve deeper into the types of feature interactions that may lead to improved model performance and whether these findings hold across a broader range of datasets and dependency structures. \n",
    "\n",
    "The conclusion challenges the conventional wisdom regarding the Naive Bayes independence assumption and suggests that Logistic Regression may sometimes benefit from certain types of feature dependencies. It's important to note that the specific methods used to introduce dependencies and the characteristics of the datasets can significantly influence these outcomes. Therefore, these conclusions should be seen as an impetus for further study rather than definitive proof regarding the robustness of these classifiers to feature dependencies."
   ]
  }
 ],
 "metadata": {
  "kernelspec": {
   "display_name": "Python 3 (ipykernel)",
   "language": "python",
   "name": "python3"
  },
  "language_info": {
   "codemirror_mode": {
    "name": "ipython",
    "version": 3
   },
   "file_extension": ".py",
   "mimetype": "text/x-python",
   "name": "python",
   "nbconvert_exporter": "python",
   "pygments_lexer": "ipython3",
   "version": "3.8.18"
  }
 },
 "nbformat": 4,
 "nbformat_minor": 2
}
